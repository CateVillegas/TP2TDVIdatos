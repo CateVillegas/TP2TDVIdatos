{
 "cells": [
  {
   "cell_type": "code",
   "execution_count": 11,
   "metadata": {},
   "outputs": [],
   "source": [
    "# Importar las librerías necesarias\n",
    "import pandas as pd\n",
    "import numpy as np\n",
    "import sklearn\n",
    "import matplotlib.pyplot as plt\n",
    "from scipy import sparse\n",
    "from scipy.sparse import csr_matrix  \n",
    "from sklearn.preprocessing import OneHotEncoder\n",
    "from sklearn.compose import ColumnTransformer\n",
    "from pandas.api.types import is_numeric_dtype\n",
    "import gc\n",
    "from sklearn.impute import SimpleImputer\n",
    "from sklearn.tree import DecisionTreeClassifier\n",
    "from sklearn.pipeline import make_pipeline\n",
    "from sklearn.model_selection import train_test_split\n",
    "from sklearn import metrics\n",
    "from sklearn.metrics import roc_auc_score\n",
    "from sklearn.ensemble import RandomForestClassifier\n",
    "from sklearn.model_selection import ParameterSampler\n",
    "from scipy.stats import uniform\n",
    "from sklearn.model_selection import RandomizedSearchCV\n",
    "from scipy.stats import randint\n"
   ]
  },
  {
   "cell_type": "code",
   "execution_count": 12,
   "metadata": {},
   "outputs": [],
   "source": [
    "# Cargar los datos\n",
    "files = [\"datosTP2/ctr_15.csv\", \"datosTP2/ctr_16.csv\", \"datosTP2/ctr_17.csv\", \"datosTP2/ctr_18.csv\", \"datosTP2/ctr_19.csv\", \"datosTP2/ctr_20.csv\", \"datosTP2/ctr_21.csv\"]\n",
    "combined_data = pd.concat([pd.read_csv(f) for f in files])\n",
    "# Load the test data\n",
    "eval_data = pd.read_csv(\"datosTP2/ctr_test.csv\")"
   ]
  },
  {
   "cell_type": "markdown",
   "metadata": {},
   "source": [
    "Eliminar algunos atributos"
   ]
  },
  {
   "cell_type": "code",
   "execution_count": 13,
   "metadata": {},
   "outputs": [],
   "source": [
    "#Eliminar las columnas categóricas ruidosas (modifica esta lista según sea necesario)\n",
    "columns_to_drop = [ 'auction_categorical_6','action_categorical_7', 'auction_boolean_1', 'auction_boolean_2', 'auction_categorical_10', 'auction_categorical_2',  'auction_categorical_1','auction_categorical_3', 'auction_categorical_0', 'creative_categorical_10']  # Especifica las columnas ruidosas que quieras eliminar\n",
    "\n",
    "combined_data = combined_data.drop(columns=columns_to_drop)\n",
    "\n",
    "# Eliminar columnas ruidosas del conjunto de test\n",
    "eval_data = eval_data.drop(columns=columns_to_drop)"
   ]
  },
  {
   "cell_type": "markdown",
   "metadata": {},
   "source": [
    "Balancear datos (reducción clase mayoritaria)"
   ]
  },
  {
   "cell_type": "code",
   "execution_count": 14,
   "metadata": {},
   "outputs": [
    {
     "name": "stdout",
     "output_type": "stream",
     "text": [
      "Label\n",
      "0    8539062\n",
      "1     105530\n",
      "Name: count, dtype: int64\n"
     ]
    }
   ],
   "source": [
    "label_counts = combined_data[\"Label\"].value_counts()\n",
    "print(label_counts)\n",
    "min_count = label_counts.min()\n",
    "\n",
    "balanced_data = pd.DataFrame()\n",
    "\n",
    "# Iterar sobre cada clase y muestrear\n",
    "for label in label_counts.index:\n",
    "    label_data = combined_data[combined_data[\"Label\"] == label]  # Filtrar por clase\n",
    "    sampled_data = label_data.sample(n=min_count, random_state=2345)  # Muestrear\n",
    "    balanced_data = pd.concat([balanced_data, sampled_data])  # Concatenar al DataFrame balanceado\n",
    "\n",
    "# Resetear el índice\n",
    "balanced_data.reset_index(drop=True, inplace=True)"
   ]
  },
  {
   "cell_type": "markdown",
   "metadata": {},
   "source": [
    "Ingenieria: aplicar Log"
   ]
  },
  {
   "cell_type": "code",
   "execution_count": 15,
   "metadata": {},
   "outputs": [],
   "source": [
    "\n",
    "# Aplicar transformación logarítmica a algunas variables numéricas\n",
    "# Especifica las columnas a transformar (modifícalo según tus datos)\n",
    "columns_to_log_transform = ['auction_bidfloor', 'creative_height', 'creative_width']\n",
    "'''\n",
    "# Asegúrate de que no haya valores cero o negativos en las columnas que deseas transformar\n",
    "for col in columns_to_log_transform:\n",
    "    combined_data[col] = np.log1p(combined_data[col])\n",
    "'''\n",
    "\n",
    "for col in columns_to_log_transform:\n",
    "    combined_data[col] = np.log1p(combined_data[col])  # np.log1p(x) = log(1 + x)\n",
    "\n",
    "# Hacer lo mismo para el conjunto de test?"
   ]
  },
  {
   "cell_type": "code",
   "execution_count": 16,
   "metadata": {},
   "outputs": [],
   "source": [
    "# Feature Engineering 1: Add 'ad_size' (creative_height * creative_width)\n",
    "combined_data['ad_size'] = combined_data['creative_height'] * combined_data['creative_width']\n",
    "eval_data['ad_size'] = eval_data['creative_height'] * eval_data['creative_width']"
   ]
  },
  {
   "cell_type": "markdown",
   "metadata": {},
   "source": [
    "Holdset"
   ]
  },
  {
   "cell_type": "code",
   "execution_count": 17,
   "metadata": {},
   "outputs": [
    {
     "data": {
      "text/plain": [
       "0"
      ]
     },
     "execution_count": 17,
     "metadata": {},
     "output_type": "execute_result"
    }
   ],
   "source": [
    "# Split the combined data into train and validation sets with a fixed random state\n",
    "random_seed = 2345\n",
    "combined_data = balanced_data.sample(frac=8/10, random_state=random_seed)\n",
    "y = combined_data[\"Label\"]\n",
    "X = combined_data.drop(columns=[\"Label\"])\n",
    "\n",
    "# Split into training and validation sets\n",
    "X_train, X_val, y_train, y_val = train_test_split(X, y, test_size=0.2, random_state=random_seed)\n",
    "\n",
    "del combined_data, X, y\n",
    "gc.collect()\n",
    "# Ahora X_train y X_val contienen tanto variables numéricas como categóricas."
   ]
  },
  {
   "cell_type": "markdown",
   "metadata": {},
   "source": [
    "Cambio formato de fecha"
   ]
  },
  {
   "cell_type": "code",
   "execution_count": 18,
   "metadata": {},
   "outputs": [],
   "source": [
    "# Definir columnas a eliminar después\n",
    "columns_to_drop = ['auction_time']\n",
    "# Convertir 'auction_time' de formato UNIX a datetime y crear columnas de fecha y hora\n",
    "\n",
    "# Para el set de entrenamiento (X_train)\n",
    "X_train['auction_time'] = pd.to_datetime(X_train['auction_time'], unit='s')\n",
    "X_train['fecha'] = X_train['auction_time'].dt.date\n",
    "X_train['hora'] = X_train['auction_time'].dt.time\n",
    "\n",
    "# Para el set de validación (X_val)\n",
    "X_val['auction_time'] = pd.to_datetime(X_val['auction_time'], unit='s')\n",
    "X_val['fecha'] = X_val['auction_time'].dt.date\n",
    "X_val['hora'] = X_val['auction_time'].dt.time\n",
    "\n",
    "# Para el set de evaluación (eval_data)\n",
    "eval_data['auction_time'] = pd.to_datetime(eval_data['auction_time'], unit='s')\n",
    "eval_data['fecha'] = eval_data['auction_time'].dt.date\n",
    "eval_data['hora'] = eval_data['auction_time'].dt.time\n",
    "\n",
    "# Eliminar solo la columna 'auction_time' porque ya no es necesaria\n",
    "X_train = X_train.drop(columns=columns_to_drop, errors='ignore')\n",
    "X_val = X_val.drop(columns=columns_to_drop, errors='ignore')\n",
    "eval_data = eval_data.drop(columns=columns_to_drop, errors='ignore')"
   ]
  },
  {
   "cell_type": "markdown",
   "metadata": {},
   "source": [
    "Si se corre este no correr One-hot encoding, cambiar donde diga encoded por numeric "
   ]
  },
  {
   "cell_type": "code",
   "execution_count": 19,
   "metadata": {},
   "outputs": [
    {
     "data": {
      "text/plain": [
       "\"\\nX_train_numeric = X_train.select_dtypes(include='number')\\nX_val_numeric = X_val.select_dtypes(include='number')\\n\""
      ]
     },
     "execution_count": 19,
     "metadata": {},
     "output_type": "execute_result"
    }
   ],
   "source": [
    "'''\n",
    "X_train_numeric = X_train.select_dtypes(include='number')\n",
    "X_val_numeric = X_val.select_dtypes(include='number')\n",
    "'''"
   ]
  },
  {
   "cell_type": "markdown",
   "metadata": {},
   "source": [
    "Ingenieria: One-Hot encoding"
   ]
  },
  {
   "cell_type": "code",
   "execution_count": 20,
   "metadata": {},
   "outputs": [],
   "source": [
    "# Identificar las variables categóricas (si no lo tienes ya hecho)\n",
    "categorical_features = X_train.select_dtypes(include=['object', 'category']).columns.tolist()\n",
    "\n",
    "# Crear el codificador OneHotEncoder con salida dispersa\n",
    "one_hot_encoder = OneHotEncoder(sparse_output=True, handle_unknown='ignore')\n",
    "\n",
    "# Crear el ColumnTransformer para aplicar OneHotEncoder a las variables categóricas\n",
    "preprocessor = ColumnTransformer(\n",
    "    transformers=[\n",
    "        ('cat', one_hot_encoder, categorical_features)\n",
    "    ], remainder='passthrough'  # Mantener las variables numéricas tal cual\n",
    ")\n",
    "\n",
    "# Aplicar el One-Hot Encoding a X_train y X_val, en formato disperso\n",
    "X_train_encoded = preprocessor.fit_transform(X_train)\n",
    "X_val_encoded = preprocessor.transform(X_val)\n",
    "\n",
    "# Convertir la salida dispersa en matrices dispersas\n",
    "X_train_encoded = sparse.csr_matrix(X_train_encoded)\n",
    "X_val_encoded = sparse.csr_matrix(X_val_encoded)"
   ]
  },
  {
   "cell_type": "markdown",
   "metadata": {},
   "source": [
    "Random Forest"
   ]
  },
  {
   "cell_type": "code",
   "execution_count": 21,
   "metadata": {},
   "outputs": [
    {
     "data": {
      "text/plain": [
       "\" \\n# Train the model using a Decision Tree\\ncls = make_pipeline(SimpleImputer(), DecisionTreeClassifier(random_state=random_seed))\\n\\n# Define the parameter grid for RandomizedSearchCV\\nparam_dist = {\\n    'decisiontreeclassifier__max_depth': randint(7, 15),\\n    'decisiontreeclassifier__min_samples_split': randint(12, 22),\\n    'decisiontreeclassifier__min_samples_leaf': randint(7, 22)\\n}\\n\\n# Initialize the RandomizedSearchCV\\nrandom_search = RandomizedSearchCV(cls, param_distributions=param_dist, \\n                                   n_iter=14, cv=3, \\n                                   scoring='roc_auc', random_state=random_seed, \\n                                   verbose=1, n_jobs=-1)\\n\\n# Fit RandomizedSearchCV\\nrandom_search.fit(X_train, y_train)\\n\\n# Best parameters found\\nprint(f'Best parameters: {random_search.best_params_}')\\nprint(f'Best AUC-ROC: {random_search.best_score_:.4f}')\\n\\n\""
      ]
     },
     "execution_count": 21,
     "metadata": {},
     "output_type": "execute_result"
    }
   ],
   "source": [
    "''' \n",
    "# Train the model using a Decision Tree\n",
    "cls = make_pipeline(SimpleImputer(), DecisionTreeClassifier(random_state=random_seed))\n",
    "\n",
    "# Define the parameter grid for RandomizedSearchCV\n",
    "param_dist = {\n",
    "    'decisiontreeclassifier__max_depth': randint(7, 15),\n",
    "    'decisiontreeclassifier__min_samples_split': randint(12, 22),\n",
    "    'decisiontreeclassifier__min_samples_leaf': randint(7, 22)\n",
    "}\n",
    "\n",
    "# Initialize the RandomizedSearchCV\n",
    "random_search = RandomizedSearchCV(cls, param_distributions=param_dist, \n",
    "                                   n_iter=14, cv=3, \n",
    "                                   scoring='roc_auc', random_state=random_seed, \n",
    "                                   verbose=1, n_jobs=-1)\n",
    "\n",
    "# Fit RandomizedSearchCV\n",
    "random_search.fit(X_train, y_train)\n",
    "\n",
    "# Best parameters found\n",
    "print(f'Best parameters: {random_search.best_params_}')\n",
    "print(f'Best AUC-ROC: {random_search.best_score_:.4f}')\n",
    "\n",
    "'''"
   ]
  },
  {
   "cell_type": "markdown",
   "metadata": {},
   "source": [
    "XG-Boost"
   ]
  },
  {
   "cell_type": "code",
   "execution_count": 22,
   "metadata": {},
   "outputs": [
    {
     "name": "stdout",
     "output_type": "stream",
     "text": [
      "[0]\tvalidation_0-auc:0.82001\n",
      "[1]\tvalidation_0-auc:0.83763\n",
      "[2]\tvalidation_0-auc:0.83896\n",
      "[3]\tvalidation_0-auc:0.84223\n",
      "[4]\tvalidation_0-auc:0.84207\n",
      "[5]\tvalidation_0-auc:0.84251\n",
      "[6]\tvalidation_0-auc:0.84509\n",
      "[7]\tvalidation_0-auc:0.84561\n",
      "[8]\tvalidation_0-auc:0.84616\n",
      "[9]\tvalidation_0-auc:0.84667\n",
      "[10]\tvalidation_0-auc:0.84717\n",
      "[11]\tvalidation_0-auc:0.84796\n",
      "[12]\tvalidation_0-auc:0.84845\n",
      "[13]\tvalidation_0-auc:0.84892\n",
      "[14]\tvalidation_0-auc:0.84879\n",
      "[15]\tvalidation_0-auc:0.84943\n",
      "[16]\tvalidation_0-auc:0.84960\n",
      "[17]\tvalidation_0-auc:0.85005\n",
      "[18]\tvalidation_0-auc:0.85008\n",
      "[19]\tvalidation_0-auc:0.85053\n",
      "[20]\tvalidation_0-auc:0.85096\n",
      "[21]\tvalidation_0-auc:0.85101\n",
      "[22]\tvalidation_0-auc:0.85123\n",
      "[23]\tvalidation_0-auc:0.85123\n",
      "[24]\tvalidation_0-auc:0.85179\n",
      "[25]\tvalidation_0-auc:0.85188\n",
      "[26]\tvalidation_0-auc:0.85201\n",
      "[27]\tvalidation_0-auc:0.85220\n",
      "[28]\tvalidation_0-auc:0.85258\n",
      "[29]\tvalidation_0-auc:0.85280\n",
      "[30]\tvalidation_0-auc:0.85344\n",
      "[31]\tvalidation_0-auc:0.85382\n",
      "[32]\tvalidation_0-auc:0.85413\n",
      "[33]\tvalidation_0-auc:0.85448\n",
      "[34]\tvalidation_0-auc:0.85454\n",
      "[35]\tvalidation_0-auc:0.85490\n",
      "[36]\tvalidation_0-auc:0.85527\n",
      "[37]\tvalidation_0-auc:0.85547\n",
      "[38]\tvalidation_0-auc:0.85557\n",
      "[39]\tvalidation_0-auc:0.85581\n",
      "[40]\tvalidation_0-auc:0.85608\n"
     ]
    },
    {
     "ename": "KeyboardInterrupt",
     "evalue": "",
     "output_type": "error",
     "traceback": [
      "\u001b[1;31m---------------------------------------------------------------------------\u001b[0m",
      "\u001b[1;31mKeyboardInterrupt\u001b[0m                         Traceback (most recent call last)",
      "Cell \u001b[1;32mIn[22], line 22\u001b[0m\n\u001b[0;32m     14\u001b[0m clf_xgb \u001b[38;5;241m=\u001b[39m xgb\u001b[38;5;241m.\u001b[39mXGBClassifier(\n\u001b[0;32m     15\u001b[0m     objective\u001b[38;5;241m=\u001b[39m\u001b[38;5;124m'\u001b[39m\u001b[38;5;124mbinary:logistic\u001b[39m\u001b[38;5;124m'\u001b[39m,\n\u001b[0;32m     16\u001b[0m     seed\u001b[38;5;241m=\u001b[39m\u001b[38;5;241m1234\u001b[39m,\n\u001b[0;32m     17\u001b[0m     eval_metric\u001b[38;5;241m=\u001b[39m\u001b[38;5;124m'\u001b[39m\u001b[38;5;124mauc\u001b[39m\u001b[38;5;124m'\u001b[39m,\n\u001b[0;32m     18\u001b[0m     \u001b[38;5;241m*\u001b[39m\u001b[38;5;241m*\u001b[39mxgb_params\n\u001b[0;32m     19\u001b[0m )\n\u001b[0;32m     21\u001b[0m \u001b[38;5;66;03m# Entrenamiento del modelo\u001b[39;00m\n\u001b[1;32m---> 22\u001b[0m \u001b[43mclf_xgb\u001b[49m\u001b[38;5;241;43m.\u001b[39;49m\u001b[43mfit\u001b[49m\u001b[43m(\u001b[49m\u001b[43mX_train_encoded\u001b[49m\u001b[43m,\u001b[49m\u001b[43m \u001b[49m\u001b[43my_train\u001b[49m\u001b[43m,\u001b[49m\u001b[43m \u001b[49m\u001b[43mverbose\u001b[49m\u001b[38;5;241;43m=\u001b[39;49m\u001b[38;5;28;43;01mTrue\u001b[39;49;00m\u001b[43m,\u001b[49m\u001b[43m \u001b[49m\u001b[43meval_set\u001b[49m\u001b[38;5;241;43m=\u001b[39;49m\u001b[43m[\u001b[49m\u001b[43m(\u001b[49m\u001b[43mX_val_encoded\u001b[49m\u001b[43m,\u001b[49m\u001b[43m \u001b[49m\u001b[43my_val\u001b[49m\u001b[43m)\u001b[49m\u001b[43m]\u001b[49m\u001b[43m)\u001b[49m\n",
      "File \u001b[1;32mc:\\Users\\catev\\anaconda3\\envs\\TD6\\Lib\\site-packages\\xgboost\\core.py:726\u001b[0m, in \u001b[0;36mrequire_keyword_args.<locals>.throw_if.<locals>.inner_f\u001b[1;34m(*args, **kwargs)\u001b[0m\n\u001b[0;32m    724\u001b[0m \u001b[38;5;28;01mfor\u001b[39;00m k, arg \u001b[38;5;129;01min\u001b[39;00m \u001b[38;5;28mzip\u001b[39m(sig\u001b[38;5;241m.\u001b[39mparameters, args):\n\u001b[0;32m    725\u001b[0m     kwargs[k] \u001b[38;5;241m=\u001b[39m arg\n\u001b[1;32m--> 726\u001b[0m \u001b[38;5;28;01mreturn\u001b[39;00m \u001b[43mfunc\u001b[49m\u001b[43m(\u001b[49m\u001b[38;5;241;43m*\u001b[39;49m\u001b[38;5;241;43m*\u001b[39;49m\u001b[43mkwargs\u001b[49m\u001b[43m)\u001b[49m\n",
      "File \u001b[1;32mc:\\Users\\catev\\anaconda3\\envs\\TD6\\Lib\\site-packages\\xgboost\\sklearn.py:1531\u001b[0m, in \u001b[0;36mXGBClassifier.fit\u001b[1;34m(self, X, y, sample_weight, base_margin, eval_set, verbose, xgb_model, sample_weight_eval_set, base_margin_eval_set, feature_weights)\u001b[0m\n\u001b[0;32m   1511\u001b[0m model, metric, params \u001b[38;5;241m=\u001b[39m \u001b[38;5;28mself\u001b[39m\u001b[38;5;241m.\u001b[39m_configure_fit(xgb_model, params)\n\u001b[0;32m   1512\u001b[0m train_dmatrix, evals \u001b[38;5;241m=\u001b[39m _wrap_evaluation_matrices(\n\u001b[0;32m   1513\u001b[0m     missing\u001b[38;5;241m=\u001b[39m\u001b[38;5;28mself\u001b[39m\u001b[38;5;241m.\u001b[39mmissing,\n\u001b[0;32m   1514\u001b[0m     X\u001b[38;5;241m=\u001b[39mX,\n\u001b[1;32m   (...)\u001b[0m\n\u001b[0;32m   1528\u001b[0m     feature_types\u001b[38;5;241m=\u001b[39m\u001b[38;5;28mself\u001b[39m\u001b[38;5;241m.\u001b[39mfeature_types,\n\u001b[0;32m   1529\u001b[0m )\n\u001b[1;32m-> 1531\u001b[0m \u001b[38;5;28mself\u001b[39m\u001b[38;5;241m.\u001b[39m_Booster \u001b[38;5;241m=\u001b[39m \u001b[43mtrain\u001b[49m\u001b[43m(\u001b[49m\n\u001b[0;32m   1532\u001b[0m \u001b[43m    \u001b[49m\u001b[43mparams\u001b[49m\u001b[43m,\u001b[49m\n\u001b[0;32m   1533\u001b[0m \u001b[43m    \u001b[49m\u001b[43mtrain_dmatrix\u001b[49m\u001b[43m,\u001b[49m\n\u001b[0;32m   1534\u001b[0m \u001b[43m    \u001b[49m\u001b[38;5;28;43mself\u001b[39;49m\u001b[38;5;241;43m.\u001b[39;49m\u001b[43mget_num_boosting_rounds\u001b[49m\u001b[43m(\u001b[49m\u001b[43m)\u001b[49m\u001b[43m,\u001b[49m\n\u001b[0;32m   1535\u001b[0m \u001b[43m    \u001b[49m\u001b[43mevals\u001b[49m\u001b[38;5;241;43m=\u001b[39;49m\u001b[43mevals\u001b[49m\u001b[43m,\u001b[49m\n\u001b[0;32m   1536\u001b[0m \u001b[43m    \u001b[49m\u001b[43mearly_stopping_rounds\u001b[49m\u001b[38;5;241;43m=\u001b[39;49m\u001b[38;5;28;43mself\u001b[39;49m\u001b[38;5;241;43m.\u001b[39;49m\u001b[43mearly_stopping_rounds\u001b[49m\u001b[43m,\u001b[49m\n\u001b[0;32m   1537\u001b[0m \u001b[43m    \u001b[49m\u001b[43mevals_result\u001b[49m\u001b[38;5;241;43m=\u001b[39;49m\u001b[43mevals_result\u001b[49m\u001b[43m,\u001b[49m\n\u001b[0;32m   1538\u001b[0m \u001b[43m    \u001b[49m\u001b[43mobj\u001b[49m\u001b[38;5;241;43m=\u001b[39;49m\u001b[43mobj\u001b[49m\u001b[43m,\u001b[49m\n\u001b[0;32m   1539\u001b[0m \u001b[43m    \u001b[49m\u001b[43mcustom_metric\u001b[49m\u001b[38;5;241;43m=\u001b[39;49m\u001b[43mmetric\u001b[49m\u001b[43m,\u001b[49m\n\u001b[0;32m   1540\u001b[0m \u001b[43m    \u001b[49m\u001b[43mverbose_eval\u001b[49m\u001b[38;5;241;43m=\u001b[39;49m\u001b[43mverbose\u001b[49m\u001b[43m,\u001b[49m\n\u001b[0;32m   1541\u001b[0m \u001b[43m    \u001b[49m\u001b[43mxgb_model\u001b[49m\u001b[38;5;241;43m=\u001b[39;49m\u001b[43mmodel\u001b[49m\u001b[43m,\u001b[49m\n\u001b[0;32m   1542\u001b[0m \u001b[43m    \u001b[49m\u001b[43mcallbacks\u001b[49m\u001b[38;5;241;43m=\u001b[39;49m\u001b[38;5;28;43mself\u001b[39;49m\u001b[38;5;241;43m.\u001b[39;49m\u001b[43mcallbacks\u001b[49m\u001b[43m,\u001b[49m\n\u001b[0;32m   1543\u001b[0m \u001b[43m\u001b[49m\u001b[43m)\u001b[49m\n\u001b[0;32m   1545\u001b[0m \u001b[38;5;28;01mif\u001b[39;00m \u001b[38;5;129;01mnot\u001b[39;00m \u001b[38;5;28mcallable\u001b[39m(\u001b[38;5;28mself\u001b[39m\u001b[38;5;241m.\u001b[39mobjective):\n\u001b[0;32m   1546\u001b[0m     \u001b[38;5;28mself\u001b[39m\u001b[38;5;241m.\u001b[39mobjective \u001b[38;5;241m=\u001b[39m params[\u001b[38;5;124m\"\u001b[39m\u001b[38;5;124mobjective\u001b[39m\u001b[38;5;124m\"\u001b[39m]\n",
      "File \u001b[1;32mc:\\Users\\catev\\anaconda3\\envs\\TD6\\Lib\\site-packages\\xgboost\\core.py:726\u001b[0m, in \u001b[0;36mrequire_keyword_args.<locals>.throw_if.<locals>.inner_f\u001b[1;34m(*args, **kwargs)\u001b[0m\n\u001b[0;32m    724\u001b[0m \u001b[38;5;28;01mfor\u001b[39;00m k, arg \u001b[38;5;129;01min\u001b[39;00m \u001b[38;5;28mzip\u001b[39m(sig\u001b[38;5;241m.\u001b[39mparameters, args):\n\u001b[0;32m    725\u001b[0m     kwargs[k] \u001b[38;5;241m=\u001b[39m arg\n\u001b[1;32m--> 726\u001b[0m \u001b[38;5;28;01mreturn\u001b[39;00m \u001b[43mfunc\u001b[49m\u001b[43m(\u001b[49m\u001b[38;5;241;43m*\u001b[39;49m\u001b[38;5;241;43m*\u001b[39;49m\u001b[43mkwargs\u001b[49m\u001b[43m)\u001b[49m\n",
      "File \u001b[1;32mc:\\Users\\catev\\anaconda3\\envs\\TD6\\Lib\\site-packages\\xgboost\\training.py:182\u001b[0m, in \u001b[0;36mtrain\u001b[1;34m(params, dtrain, num_boost_round, evals, obj, feval, maximize, early_stopping_rounds, evals_result, verbose_eval, xgb_model, callbacks, custom_metric)\u001b[0m\n\u001b[0;32m    180\u001b[0m         \u001b[38;5;28;01mbreak\u001b[39;00m\n\u001b[0;32m    181\u001b[0m     bst\u001b[38;5;241m.\u001b[39mupdate(dtrain, iteration\u001b[38;5;241m=\u001b[39mi, fobj\u001b[38;5;241m=\u001b[39mobj)\n\u001b[1;32m--> 182\u001b[0m     \u001b[38;5;28;01mif\u001b[39;00m \u001b[43mcb_container\u001b[49m\u001b[38;5;241;43m.\u001b[39;49m\u001b[43mafter_iteration\u001b[49m\u001b[43m(\u001b[49m\u001b[43mbst\u001b[49m\u001b[43m,\u001b[49m\u001b[43m \u001b[49m\u001b[43mi\u001b[49m\u001b[43m,\u001b[49m\u001b[43m \u001b[49m\u001b[43mdtrain\u001b[49m\u001b[43m,\u001b[49m\u001b[43m \u001b[49m\u001b[43mevals\u001b[49m\u001b[43m)\u001b[49m:\n\u001b[0;32m    183\u001b[0m         \u001b[38;5;28;01mbreak\u001b[39;00m\n\u001b[0;32m    185\u001b[0m bst \u001b[38;5;241m=\u001b[39m cb_container\u001b[38;5;241m.\u001b[39mafter_training(bst)\n",
      "File \u001b[1;32mc:\\Users\\catev\\anaconda3\\envs\\TD6\\Lib\\site-packages\\xgboost\\callback.py:258\u001b[0m, in \u001b[0;36mCallbackContainer.after_iteration\u001b[1;34m(self, model, epoch, dtrain, evals)\u001b[0m\n\u001b[0;32m    256\u001b[0m \u001b[38;5;28;01mfor\u001b[39;00m _, name \u001b[38;5;129;01min\u001b[39;00m evals:\n\u001b[0;32m    257\u001b[0m     \u001b[38;5;28;01massert\u001b[39;00m name\u001b[38;5;241m.\u001b[39mfind(\u001b[38;5;124m\"\u001b[39m\u001b[38;5;124m-\u001b[39m\u001b[38;5;124m\"\u001b[39m) \u001b[38;5;241m==\u001b[39m \u001b[38;5;241m-\u001b[39m\u001b[38;5;241m1\u001b[39m, \u001b[38;5;124m\"\u001b[39m\u001b[38;5;124mDataset name should not contain `-`\u001b[39m\u001b[38;5;124m\"\u001b[39m\n\u001b[1;32m--> 258\u001b[0m score: \u001b[38;5;28mstr\u001b[39m \u001b[38;5;241m=\u001b[39m \u001b[43mmodel\u001b[49m\u001b[38;5;241;43m.\u001b[39;49m\u001b[43meval_set\u001b[49m\u001b[43m(\u001b[49m\u001b[43mevals\u001b[49m\u001b[43m,\u001b[49m\u001b[43m \u001b[49m\u001b[43mepoch\u001b[49m\u001b[43m,\u001b[49m\u001b[43m \u001b[49m\u001b[38;5;28;43mself\u001b[39;49m\u001b[38;5;241;43m.\u001b[39;49m\u001b[43mmetric\u001b[49m\u001b[43m,\u001b[49m\u001b[43m \u001b[49m\u001b[38;5;28;43mself\u001b[39;49m\u001b[38;5;241;43m.\u001b[39;49m\u001b[43m_output_margin\u001b[49m\u001b[43m)\u001b[49m\n\u001b[0;32m    259\u001b[0m metric_score \u001b[38;5;241m=\u001b[39m _parse_eval_str(score)\n\u001b[0;32m    260\u001b[0m \u001b[38;5;28mself\u001b[39m\u001b[38;5;241m.\u001b[39m_update_history(metric_score, epoch)\n",
      "File \u001b[1;32mc:\\Users\\catev\\anaconda3\\envs\\TD6\\Lib\\site-packages\\xgboost\\core.py:2212\u001b[0m, in \u001b[0;36mBooster.eval_set\u001b[1;34m(self, evals, iteration, feval, output_margin)\u001b[0m\n\u001b[0;32m   2209\u001b[0m evnames \u001b[38;5;241m=\u001b[39m c_array(ctypes\u001b[38;5;241m.\u001b[39mc_char_p, [c_str(d[\u001b[38;5;241m1\u001b[39m]) \u001b[38;5;28;01mfor\u001b[39;00m d \u001b[38;5;129;01min\u001b[39;00m evals])\n\u001b[0;32m   2210\u001b[0m msg \u001b[38;5;241m=\u001b[39m ctypes\u001b[38;5;241m.\u001b[39mc_char_p()\n\u001b[0;32m   2211\u001b[0m _check_call(\n\u001b[1;32m-> 2212\u001b[0m     \u001b[43m_LIB\u001b[49m\u001b[38;5;241;43m.\u001b[39;49m\u001b[43mXGBoosterEvalOneIter\u001b[49m\u001b[43m(\u001b[49m\n\u001b[0;32m   2213\u001b[0m \u001b[43m        \u001b[49m\u001b[38;5;28;43mself\u001b[39;49m\u001b[38;5;241;43m.\u001b[39;49m\u001b[43mhandle\u001b[49m\u001b[43m,\u001b[49m\n\u001b[0;32m   2214\u001b[0m \u001b[43m        \u001b[49m\u001b[43mctypes\u001b[49m\u001b[38;5;241;43m.\u001b[39;49m\u001b[43mc_int\u001b[49m\u001b[43m(\u001b[49m\u001b[43miteration\u001b[49m\u001b[43m)\u001b[49m\u001b[43m,\u001b[49m\n\u001b[0;32m   2215\u001b[0m \u001b[43m        \u001b[49m\u001b[43mdmats\u001b[49m\u001b[43m,\u001b[49m\n\u001b[0;32m   2216\u001b[0m \u001b[43m        \u001b[49m\u001b[43mevnames\u001b[49m\u001b[43m,\u001b[49m\n\u001b[0;32m   2217\u001b[0m \u001b[43m        \u001b[49m\u001b[43mc_bst_ulong\u001b[49m\u001b[43m(\u001b[49m\u001b[38;5;28;43mlen\u001b[39;49m\u001b[43m(\u001b[49m\u001b[43mevals\u001b[49m\u001b[43m)\u001b[49m\u001b[43m)\u001b[49m\u001b[43m,\u001b[49m\n\u001b[0;32m   2218\u001b[0m \u001b[43m        \u001b[49m\u001b[43mctypes\u001b[49m\u001b[38;5;241;43m.\u001b[39;49m\u001b[43mbyref\u001b[49m\u001b[43m(\u001b[49m\u001b[43mmsg\u001b[49m\u001b[43m)\u001b[49m\u001b[43m,\u001b[49m\n\u001b[0;32m   2219\u001b[0m \u001b[43m    \u001b[49m\u001b[43m)\u001b[49m\n\u001b[0;32m   2220\u001b[0m )\n\u001b[0;32m   2221\u001b[0m \u001b[38;5;28;01massert\u001b[39;00m msg\u001b[38;5;241m.\u001b[39mvalue \u001b[38;5;129;01mis\u001b[39;00m \u001b[38;5;129;01mnot\u001b[39;00m \u001b[38;5;28;01mNone\u001b[39;00m\n\u001b[0;32m   2222\u001b[0m res \u001b[38;5;241m=\u001b[39m msg\u001b[38;5;241m.\u001b[39mvalue\u001b[38;5;241m.\u001b[39mdecode()  \u001b[38;5;66;03m# pylint: disable=no-member\u001b[39;00m\n",
      "\u001b[1;31mKeyboardInterrupt\u001b[0m: "
     ]
    }
   ],
   "source": [
    "import xgboost as xgb\n",
    "# Entrenamiento y evaluación del modelo XGBoost\n",
    "xgb_params = {\n",
    "    'colsample_bytree': 0.75,\n",
    "    'gamma': 0.5,\n",
    "    'learning_rate': 0.075,\n",
    "    'max_depth': 8,\n",
    "    'min_child_weight': 1,\n",
    "    'n_estimators': 1000,\n",
    "    'reg_lambda': 0.5,\n",
    "    'subsample': 0.75,\n",
    "}\n",
    "\n",
    "clf_xgb = xgb.XGBClassifier(\n",
    "    objective='binary:logistic',\n",
    "    seed=1234,\n",
    "    eval_metric='auc',\n",
    "    **xgb_params\n",
    ")\n",
    "\n",
    "# Entrenamiento del modelo\n",
    "clf_xgb.fit(X_train_encoded, y_train, verbose=True, eval_set=[(X_val_encoded, y_val)])"
   ]
  },
  {
   "cell_type": "markdown",
   "metadata": {},
   "source": [
    "Random Search (xgboost)"
   ]
  },
  {
   "cell_type": "code",
   "execution_count": null,
   "metadata": {},
   "outputs": [],
   "source": [
    "''' \n",
    "\n",
    "params = {'max_depth': list(range(5, 10)),\n",
    "          'learning_rate': uniform(scale = 0.2),\n",
    "          'gamma': uniform(scale = 2),\n",
    "          'reg_lambda': uniform(scale = 5),        # Parámetro de regularización.\n",
    "          'subsample': uniform(0.5, 0.5),          # Entre 0.5 y 1.\n",
    "          'min_child_weight': uniform(scale = 5),\n",
    "          'colsample_bytree': uniform(0.75, 0.25), # Entre 0.75 y 1.\n",
    "          'n_estimators': list(range(300, 800))\n",
    "         }\n",
    "\n",
    "best_score = 0\n",
    "best_estimator = None\n",
    "iterations = 10\n",
    "i = 0\n",
    "for g in ParameterSampler(params, n_iter = iterations, random_state = 2345):\n",
    "    print(g)\n",
    "    clf_xgb = xgb.XGBClassifier(objective = 'binary:logistic', seed = 2345, eval_metric = 'auc', **g)\n",
    "    clf_xgb.fit(X_train_encoded, y_train, eval_set = [(X_val_encoded, y_val)], verbose = 100)\n",
    "\n",
    "    y_pred = clf_xgb.predict_proba(X_val_encoded)[:, 1] # Obtenemos la probabilidad de una de las clases (cualquiera).\n",
    "    auc_roc = sklearn.metrics.roc_auc_score(y_val, y_pred)\n",
    "    # Guardamos si es mejor.\n",
    "    if auc_roc > best_score:\n",
    "        print(f'Mejor valor de ROC-AUC encontrado: {auc_roc}')\n",
    "        best_score = auc_roc\n",
    "        best_grid = g\n",
    "        best_estimator = clf_xgb\n",
    "\n",
    "\n",
    "print('ROC-AUC: %0.5f' % best_score)\n",
    "print('Grilla:', best_grid)\n",
    "\n",
    "'''"
   ]
  },
  {
   "cell_type": "markdown",
   "metadata": {},
   "source": [
    "Test"
   ]
  },
  {
   "cell_type": "code",
   "execution_count": 12,
   "metadata": {},
   "outputs": [],
   "source": [
    "# Asegúrate de que eval_data contenga tanto variables categóricas como numéricas\n",
    "# Filtrar las columnas categóricas en el conjunto de test\n",
    "eval_data_categorical = eval_data.select_dtypes(include=['object', 'category']).columns.tolist()\n",
    "\n",
    "# Si en el conjunto de test faltan columnas categóricas que estaban en el entrenamiento, deberías añadirlas con valores NaN\n",
    "missing_cols = set(categorical_features) - set(eval_data_categorical)\n",
    "for col in missing_cols:\n",
    "    eval_data[col] = np.nan  # Añadir la columna faltante\n",
    "\n",
    "# Ahora aplicar la misma transformación que en el conjunto de entrenamiento\n",
    "eval_data_encoded = preprocessor.transform(eval_data)  # Usar preprocessor.transform, no fit_transform\n",
    "\n",
    "# Convertir a formato disperso si es necesario  \n",
    "eval_data_encoded = sparse.csr_matrix(eval_data_encoded)\n",
    "\n",
    "# Hacer predicciones con el modelo\n",
    "y_preds_eval = clf_xgb.predict_proba(eval_data_encoded)[:, 1]"
   ]
  },
  {
   "cell_type": "code",
   "execution_count": 13,
   "metadata": {},
   "outputs": [],
   "source": [
    "# Crear el archivo de envío\n",
    "submission_df = pd.DataFrame({\"id\": eval_data[\"id\"], \"Label\": y_preds_eval})\n",
    "submission_df[\"id\"] = submission_df[\"id\"].astype(int)  # Asegúrate de que \"id\" sea entero\n",
    "submission_df.to_csv(\"basic_model2.csv\", sep=\",\", index=False)  # Guarda el archivo sin el índice"
   ]
  }
 ],
 "metadata": {
  "kernelspec": {
   "display_name": "TD6",
   "language": "python",
   "name": "python3"
  },
  "language_info": {
   "codemirror_mode": {
    "name": "ipython",
    "version": 3
   },
   "file_extension": ".py",
   "mimetype": "text/x-python",
   "name": "python",
   "nbconvert_exporter": "python",
   "pygments_lexer": "ipython3",
   "version": "3.12.4"
  }
 },
 "nbformat": 4,
 "nbformat_minor": 2
}
